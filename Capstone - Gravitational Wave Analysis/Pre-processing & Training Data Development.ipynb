{
 "cells": [
  {
   "cell_type": "markdown",
   "id": "0c44f503",
   "metadata": {},
   "source": [
    "# Data Pre-processing for Astrophysical Origin Classification Model"
   ]
  },
  {
   "cell_type": "markdown",
   "id": "84c4d04f",
   "metadata": {},
   "source": [
    "In this notebook, we will prepare data for a machine learning model to handle the following task: To predict whether a detection event will have a very high probability of astrophysical origin based just on the value of its matched filter singal-to-noise ratio (SNR).\n",
    "\n",
    "To accomplish this, we will first need to define a treshhold for \"very high astrophysical probability\", and then create a train-test split of our data."
   ]
  },
  {
   "cell_type": "markdown",
   "id": "fce8a5fb",
   "metadata": {},
   "source": [
    "## Loading the data"
   ]
  },
  {
   "cell_type": "markdown",
   "id": "08e64ace",
   "metadata": {},
   "source": [
    "Since we are building a machine learning model, the more data the better, so we actually want to import the original dataset which includes events with 'p_astro' < 0.8 which we had dropped for our EDA notebook. Not doing so would create a very imbalanced dataset for modeling. \n",
    "\n",
    "Since we are only iterested in two columns: 'network_mathed_filter_snr' as a feature and 'p_astro' as our target variable, we can ignore all the other cleaning steps we took for the other columns in previous notebooks. The only thing we still want to do is to make sure the dataset contains only confidently detected events (and drop auxillary and marginal detections we had originally noticed):"
   ]
  },
  {
   "cell_type": "code",
   "execution_count": 1,
   "id": "cc4d6ad8",
   "metadata": {},
   "outputs": [],
   "source": [
    "import pandas as pd\n",
    "\n",
    "gw_data = pd.read_csv('GWTC.csv')\n",
    "gw_confident = gw_data[gw_data['catalog.shortName'].str.contains('confident')].reset_index(drop = True)"
   ]
  },
  {
   "cell_type": "markdown",
   "id": "024784dc",
   "metadata": {},
   "source": [
    "Next we can simplify the dataset by keepling only the columns that we are interested in:"
   ]
  },
  {
   "cell_type": "code",
   "execution_count": 2,
   "id": "24d8c768",
   "metadata": {},
   "outputs": [
    {
     "data": {
      "text/html": [
       "<div>\n",
       "<style scoped>\n",
       "    .dataframe tbody tr th:only-of-type {\n",
       "        vertical-align: middle;\n",
       "    }\n",
       "\n",
       "    .dataframe tbody tr th {\n",
       "        vertical-align: top;\n",
       "    }\n",
       "\n",
       "    .dataframe thead th {\n",
       "        text-align: right;\n",
       "    }\n",
       "</style>\n",
       "<table border=\"1\" class=\"dataframe\">\n",
       "  <thead>\n",
       "    <tr style=\"text-align: right;\">\n",
       "      <th></th>\n",
       "      <th>commonName</th>\n",
       "      <th>network_matched_filter_snr</th>\n",
       "      <th>p_astro</th>\n",
       "    </tr>\n",
       "  </thead>\n",
       "  <tbody>\n",
       "    <tr>\n",
       "      <th>0</th>\n",
       "      <td>GW150914</td>\n",
       "      <td>26.0</td>\n",
       "      <td>1.00000</td>\n",
       "    </tr>\n",
       "    <tr>\n",
       "      <th>1</th>\n",
       "      <td>GW151012</td>\n",
       "      <td>10.0</td>\n",
       "      <td>1.00000</td>\n",
       "    </tr>\n",
       "    <tr>\n",
       "      <th>2</th>\n",
       "      <td>GW151226</td>\n",
       "      <td>13.1</td>\n",
       "      <td>1.00000</td>\n",
       "    </tr>\n",
       "    <tr>\n",
       "      <th>3</th>\n",
       "      <td>GW170104</td>\n",
       "      <td>13.8</td>\n",
       "      <td>1.00000</td>\n",
       "    </tr>\n",
       "    <tr>\n",
       "      <th>4</th>\n",
       "      <td>GW170608</td>\n",
       "      <td>15.4</td>\n",
       "      <td>1.00000</td>\n",
       "    </tr>\n",
       "    <tr>\n",
       "      <th>...</th>\n",
       "      <td>...</td>\n",
       "      <td>...</td>\n",
       "      <td>...</td>\n",
       "    </tr>\n",
       "    <tr>\n",
       "      <th>85</th>\n",
       "      <td>GW200306_093714</td>\n",
       "      <td>7.8</td>\n",
       "      <td>0.81156</td>\n",
       "    </tr>\n",
       "    <tr>\n",
       "      <th>86</th>\n",
       "      <td>GW200308_173609</td>\n",
       "      <td>7.1</td>\n",
       "      <td>0.85660</td>\n",
       "    </tr>\n",
       "    <tr>\n",
       "      <th>87</th>\n",
       "      <td>GW200311_115853</td>\n",
       "      <td>17.8</td>\n",
       "      <td>0.99000</td>\n",
       "    </tr>\n",
       "    <tr>\n",
       "      <th>88</th>\n",
       "      <td>GW200316_215756</td>\n",
       "      <td>10.3</td>\n",
       "      <td>0.99000</td>\n",
       "    </tr>\n",
       "    <tr>\n",
       "      <th>89</th>\n",
       "      <td>GW200322_091133</td>\n",
       "      <td>6.0</td>\n",
       "      <td>0.61501</td>\n",
       "    </tr>\n",
       "  </tbody>\n",
       "</table>\n",
       "<p>90 rows × 3 columns</p>\n",
       "</div>"
      ],
      "text/plain": [
       "         commonName  network_matched_filter_snr  p_astro\n",
       "0          GW150914                        26.0  1.00000\n",
       "1          GW151012                        10.0  1.00000\n",
       "2          GW151226                        13.1  1.00000\n",
       "3          GW170104                        13.8  1.00000\n",
       "4          GW170608                        15.4  1.00000\n",
       "..              ...                         ...      ...\n",
       "85  GW200306_093714                         7.8  0.81156\n",
       "86  GW200308_173609                         7.1  0.85660\n",
       "87  GW200311_115853                        17.8  0.99000\n",
       "88  GW200316_215756                        10.3  0.99000\n",
       "89  GW200322_091133                         6.0  0.61501\n",
       "\n",
       "[90 rows x 3 columns]"
      ]
     },
     "execution_count": 2,
     "metadata": {},
     "output_type": "execute_result"
    }
   ],
   "source": [
    "df = gw_confident[['commonName','network_matched_filter_snr', 'p_astro']]\n",
    "df"
   ]
  },
  {
   "cell_type": "markdown",
   "id": "10de1ef9",
   "metadata": {},
   "source": [
    "## Binarizing target variable"
   ]
  },
  {
   "cell_type": "markdown",
   "id": "42b70b7e",
   "metadata": {},
   "source": [
    "Now we need to define a treshold value for \"very high astrophysical probability\". To do so we will first look at the distribution of values and some summary statistics:"
   ]
  },
  {
   "cell_type": "code",
   "execution_count": 3,
   "id": "c134e8d4",
   "metadata": {},
   "outputs": [
    {
     "data": {
      "text/html": [
       "<div>\n",
       "<style scoped>\n",
       "    .dataframe tbody tr th:only-of-type {\n",
       "        vertical-align: middle;\n",
       "    }\n",
       "\n",
       "    .dataframe tbody tr th {\n",
       "        vertical-align: top;\n",
       "    }\n",
       "\n",
       "    .dataframe thead th {\n",
       "        text-align: right;\n",
       "    }\n",
       "</style>\n",
       "<table border=\"1\" class=\"dataframe\">\n",
       "  <thead>\n",
       "    <tr style=\"text-align: right;\">\n",
       "      <th></th>\n",
       "      <th>network_matched_filter_snr</th>\n",
       "      <th>p_astro</th>\n",
       "    </tr>\n",
       "  </thead>\n",
       "  <tbody>\n",
       "    <tr>\n",
       "      <th>count</th>\n",
       "      <td>90.000000</td>\n",
       "      <td>90.000000</td>\n",
       "    </tr>\n",
       "    <tr>\n",
       "      <th>mean</th>\n",
       "      <td>12.357778</td>\n",
       "      <td>0.923763</td>\n",
       "    </tr>\n",
       "    <tr>\n",
       "      <th>std</th>\n",
       "      <td>4.891129</td>\n",
       "      <td>0.123516</td>\n",
       "    </tr>\n",
       "    <tr>\n",
       "      <th>min</th>\n",
       "      <td>6.000000</td>\n",
       "      <td>0.543340</td>\n",
       "    </tr>\n",
       "    <tr>\n",
       "      <th>25%</th>\n",
       "      <td>9.025000</td>\n",
       "      <td>0.879422</td>\n",
       "    </tr>\n",
       "    <tr>\n",
       "      <th>50%</th>\n",
       "      <td>10.850000</td>\n",
       "      <td>0.990000</td>\n",
       "    </tr>\n",
       "    <tr>\n",
       "      <th>75%</th>\n",
       "      <td>13.350000</td>\n",
       "      <td>1.000000</td>\n",
       "    </tr>\n",
       "    <tr>\n",
       "      <th>max</th>\n",
       "      <td>33.000000</td>\n",
       "      <td>1.000000</td>\n",
       "    </tr>\n",
       "  </tbody>\n",
       "</table>\n",
       "</div>"
      ],
      "text/plain": [
       "       network_matched_filter_snr    p_astro\n",
       "count                   90.000000  90.000000\n",
       "mean                    12.357778   0.923763\n",
       "std                      4.891129   0.123516\n",
       "min                      6.000000   0.543340\n",
       "25%                      9.025000   0.879422\n",
       "50%                     10.850000   0.990000\n",
       "75%                     13.350000   1.000000\n",
       "max                     33.000000   1.000000"
      ]
     },
     "execution_count": 3,
     "metadata": {},
     "output_type": "execute_result"
    }
   ],
   "source": [
    "df.describe()"
   ]
  },
  {
   "cell_type": "code",
   "execution_count": 4,
   "id": "a130b16b",
   "metadata": {},
   "outputs": [
    {
     "data": {
      "image/png": "[encoded data removed]",
      "text/plain": [
       "<Figure size 800x400 with 1 Axes>"
      ]
     },
     "metadata": {},
     "output_type": "display_data"
    }
   ],
   "source": [
    "import matplotlib.pyplot as plt\n",
    "\n",
    "# Checking the distribution of the 'p_astro' column\n",
    "plt.figure(figsize=(8, 4))\n",
    "plt.hist(df['p_astro'], bins=30, color = 'blue')\n",
    "plt.title('Distribution of Astrophysical Origin Probability')\n",
    "plt.xlabel('Astrophysical Origin Probability')\n",
    "plt.ylabel('Frequency')\n",
    "\n",
    "plt.show()"
   ]
  },
  {
   "cell_type": "markdown",
   "id": "37b8ad97",
   "metadata": {},
   "source": [
    "Given that the 50% percentile value for p_astro is 0.99 and by what we can also see from the plot, it looks like about half the values are >= 0.99 and the other half < 0.99, so we will choose that as the treshold."
   ]
  },
  {
   "cell_type": "code",
   "execution_count": 9,
   "id": "ccce9526",
   "metadata": {},
   "outputs": [
    {
     "data": {
      "text/html": [
       "<div>\n",
       "<style scoped>\n",
       "    .dataframe tbody tr th:only-of-type {\n",
       "        vertical-align: middle;\n",
       "    }\n",
       "\n",
       "    .dataframe tbody tr th {\n",
       "        vertical-align: top;\n",
       "    }\n",
       "\n",
       "    .dataframe thead th {\n",
       "        text-align: right;\n",
       "    }\n",
       "</style>\n",
       "<table border=\"1\" class=\"dataframe\">\n",
       "  <thead>\n",
       "    <tr style=\"text-align: right;\">\n",
       "      <th></th>\n",
       "      <th>commonName</th>\n",
       "      <th>network_matched_filter_snr</th>\n",
       "      <th>p_astro</th>\n",
       "      <th>p_astro_binary</th>\n",
       "    </tr>\n",
       "  </thead>\n",
       "  <tbody>\n",
       "    <tr>\n",
       "      <th>0</th>\n",
       "      <td>GW150914</td>\n",
       "      <td>26.0</td>\n",
       "      <td>1.00000</td>\n",
       "      <td>1</td>\n",
       "    </tr>\n",
       "    <tr>\n",
       "      <th>1</th>\n",
       "      <td>GW151012</td>\n",
       "      <td>10.0</td>\n",
       "      <td>1.00000</td>\n",
       "      <td>1</td>\n",
       "    </tr>\n",
       "    <tr>\n",
       "      <th>2</th>\n",
       "      <td>GW151226</td>\n",
       "      <td>13.1</td>\n",
       "      <td>1.00000</td>\n",
       "      <td>1</td>\n",
       "    </tr>\n",
       "    <tr>\n",
       "      <th>3</th>\n",
       "      <td>GW170104</td>\n",
       "      <td>13.8</td>\n",
       "      <td>1.00000</td>\n",
       "      <td>1</td>\n",
       "    </tr>\n",
       "    <tr>\n",
       "      <th>4</th>\n",
       "      <td>GW170608</td>\n",
       "      <td>15.4</td>\n",
       "      <td>1.00000</td>\n",
       "      <td>1</td>\n",
       "    </tr>\n",
       "    <tr>\n",
       "      <th>...</th>\n",
       "      <td>...</td>\n",
       "      <td>...</td>\n",
       "      <td>...</td>\n",
       "      <td>...</td>\n",
       "    </tr>\n",
       "    <tr>\n",
       "      <th>85</th>\n",
       "      <td>GW200306_093714</td>\n",
       "      <td>7.8</td>\n",
       "      <td>0.81156</td>\n",
       "      <td>0</td>\n",
       "    </tr>\n",
       "    <tr>\n",
       "      <th>86</th>\n",
       "      <td>GW200308_173609</td>\n",
       "      <td>7.1</td>\n",
       "      <td>0.85660</td>\n",
       "      <td>0</td>\n",
       "    </tr>\n",
       "    <tr>\n",
       "      <th>87</th>\n",
       "      <td>GW200311_115853</td>\n",
       "      <td>17.8</td>\n",
       "      <td>0.99000</td>\n",
       "      <td>1</td>\n",
       "    </tr>\n",
       "    <tr>\n",
       "      <th>88</th>\n",
       "      <td>GW200316_215756</td>\n",
       "      <td>10.3</td>\n",
       "      <td>0.99000</td>\n",
       "      <td>1</td>\n",
       "    </tr>\n",
       "    <tr>\n",
       "      <th>89</th>\n",
       "      <td>GW200322_091133</td>\n",
       "      <td>6.0</td>\n",
       "      <td>0.61501</td>\n",
       "      <td>0</td>\n",
       "    </tr>\n",
       "  </tbody>\n",
       "</table>\n",
       "<p>90 rows × 4 columns</p>\n",
       "</div>"
      ],
      "text/plain": [
       "         commonName  network_matched_filter_snr  p_astro  p_astro_binary\n",
       "0          GW150914                        26.0  1.00000               1\n",
       "1          GW151012                        10.0  1.00000               1\n",
       "2          GW151226                        13.1  1.00000               1\n",
       "3          GW170104                        13.8  1.00000               1\n",
       "4          GW170608                        15.4  1.00000               1\n",
       "..              ...                         ...      ...             ...\n",
       "85  GW200306_093714                         7.8  0.81156               0\n",
       "86  GW200308_173609                         7.1  0.85660               0\n",
       "87  GW200311_115853                        17.8  0.99000               1\n",
       "88  GW200316_215756                        10.3  0.99000               1\n",
       "89  GW200322_091133                         6.0  0.61501               0\n",
       "\n",
       "[90 rows x 4 columns]"
      ]
     },
     "execution_count": 9,
     "metadata": {},
     "output_type": "execute_result"
    }
   ],
   "source": [
    "threshold = 0.99\n",
    "\n",
    "# Using .loc for safe assignment\n",
    "df.loc[:, 'p_astro_binary'] = (df['p_astro'] >= threshold).astype(int)\n",
    "df"
   ]
  },
  {
   "cell_type": "markdown",
   "id": "21ddc0fc",
   "metadata": {},
   "source": [
    "Let's check the balance of our dataset by seeing the distribution of classes for p_astro_binary:"
   ]
  },
  {
   "cell_type": "code",
   "execution_count": 6,
   "id": "0bcd8c6a",
   "metadata": {},
   "outputs": [
    {
     "data": {
      "image/png": "[encoded data removed]",
      "text/plain": [
       "<Figure size 800x600 with 1 Axes>"
      ]
     },
     "metadata": {},
     "output_type": "display_data"
    },
    {
     "name": "stdout",
     "output_type": "stream",
     "text": [
      "p_astro_binary\n",
      "1    61.111111\n",
      "0    38.888889\n",
      "Name: proportion, dtype: float64\n"
     ]
    }
   ],
   "source": [
    "import seaborn as sns\n",
    "\n",
    "plt.figure(figsize=(8, 6))\n",
    "sns.countplot(x='p_astro_binary', data=df)\n",
    "plt.title('Countplot of p_astro_binary')\n",
    "plt.xlabel('Class')\n",
    "plt.ylabel('Count')\n",
    "\n",
    "plt.show()\n",
    "\n",
    "class_distribution_pct = df['p_astro_binary'].value_counts(normalize=True) * 100\n",
    "print(class_distribution_pct)"
   ]
  },
  {
   "cell_type": "markdown",
   "id": "14bc50e0",
   "metadata": {},
   "source": [
    "So not a perfectly balanced dataset (with a split of about 60/40), but it is good enough for now. We can see how to account for the imbalance in the modeling phase."
   ]
  },
  {
   "cell_type": "markdown",
   "id": "7b9914b8",
   "metadata": {},
   "source": [
    "## Train/Test split"
   ]
  },
  {
   "cell_type": "markdown",
   "id": "0ad7669c",
   "metadata": {},
   "source": [
    "Next we will split the data into training and testing sets:"
   ]
  },
  {
   "cell_type": "code",
   "execution_count": 7,
   "id": "4b1b2f61",
   "metadata": {},
   "outputs": [],
   "source": [
    "from sklearn.model_selection import train_test_split\n",
    "\n",
    "X = df[['network_matched_filter_snr']]\n",
    "y = df['p_astro_binary']\n",
    "\n",
    "X_train, X_test, y_train, y_test = train_test_split(X, y, test_size=0.3, random_state=42)"
   ]
  },
  {
   "cell_type": "markdown",
   "id": "dc44b629",
   "metadata": {},
   "source": [
    "And save our dataset:"
   ]
  },
  {
   "cell_type": "code",
   "execution_count": 8,
   "id": "84ff6866",
   "metadata": {},
   "outputs": [],
   "source": [
    "df.to_csv('GWTC_preprocessed.csv', index=False) "
   ]
  }
 ],
 "metadata": {
  "kernelspec": {
   "display_name": "Python (igwn-py39)",
   "language": "python",
   "name": "igwn-py39"
  },
  "language_info": {
   "codemirror_mode": {
    "name": "ipython",
    "version": 3
   },
   "file_extension": ".py",
   "mimetype": "text/x-python",
   "name": "python",
   "nbconvert_exporter": "python",
   "pygments_lexer": "ipython3",
   "version": "3.9.16"
  }
 },
 "nbformat": 4,
 "nbformat_minor": 5
}
