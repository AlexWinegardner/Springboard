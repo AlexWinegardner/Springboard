{
 "cells": [
  {
   "cell_type": "markdown",
   "metadata": {},
   "source": [
    "## Pandas Profiling: NASA Meteorites example\n",
    "Source of data: https://data.nasa.gov/Space-Science/Meteorite-Landings/gh4g-9sfh"
   ]
  },
  {
   "cell_type": "markdown",
   "metadata": {},
   "source": [
    "The autoreload instruction reloads modules automatically before code execution, which is helpful for the update below."
   ]
  },
  {
   "cell_type": "code",
   "execution_count": 1,
   "metadata": {},
   "outputs": [],
   "source": [
    "%load_ext autoreload\n",
    "%autoreload 2"
   ]
  },
  {
   "cell_type": "markdown",
   "metadata": {},
   "source": [
    "Make sure that we have the latest version of pandas-profiling."
   ]
  },
  {
   "cell_type": "code",
   "execution_count": 3,
   "metadata": {},
   "outputs": [
    {
     "name": "stdout",
     "output_type": "stream",
     "text": [
      "Collecting pandas-profiling[notebook]\n",
      "  Downloading pandas_profiling-3.2.0-py2.py3-none-any.whl (262 kB)\n",
      "\u001b[2K     \u001b[38;2;114;156;31m━━━━━━━━━━━━━━━━━━━━━━━━━━━━━━━━━━━━━━━\u001b[0m \u001b[32m262.6/262.6 kB\u001b[0m \u001b[31m4.8 MB/s\u001b[0m eta \u001b[36m0:00:00\u001b[0m[36m0:00:01\u001b[0m\n",
      "\u001b[?25hCollecting joblib~=1.1.0 (from pandas-profiling[notebook])\n",
      "  Downloading joblib-1.1.1-py2.py3-none-any.whl (309 kB)\n",
      "\u001b[2K     \u001b[38;2;114;156;31m━━━━━━━━━━━━━━━━━━━━━━━━━━━━━━━━━━━━━━━\u001b[0m \u001b[32m309.8/309.8 kB\u001b[0m \u001b[31m9.0 MB/s\u001b[0m eta \u001b[36m0:00:00\u001b[0m\n",
      "\u001b[?25hRequirement already satisfied: scipy>=1.4.1 in /Users/alexanderwinegardner/anaconda3/envs/GuidedCapstone/lib/python3.11/site-packages (from pandas-profiling[notebook]) (1.11.2)\n",
      "Requirement already satisfied: pandas!=1.0.0,!=1.0.1,!=1.0.2,!=1.1.0,>=0.25.3 in /Users/alexanderwinegardner/anaconda3/envs/GuidedCapstone/lib/python3.11/site-packages (from pandas-profiling[notebook]) (2.0.3)\n",
      "Requirement already satisfied: matplotlib>=3.2.0 in /Users/alexanderwinegardner/anaconda3/envs/GuidedCapstone/lib/python3.11/site-packages (from pandas-profiling[notebook]) (3.7.2)\n",
      "Requirement already satisfied: pydantic>=1.8.1 in /Users/alexanderwinegardner/anaconda3/envs/GuidedCapstone/lib/python3.11/site-packages (from pandas-profiling[notebook]) (1.10.12)\n",
      "Collecting PyYAML>=5.0.0 (from pandas-profiling[notebook])\n",
      "  Obtaining dependency information for PyYAML>=5.0.0 from https://files.pythonhosted.org/packages/28/09/55f715ddbf95a054b764b547f617e22f1d5e45d83905660e9a088078fe67/PyYAML-6.0.1-cp311-cp311-macosx_11_0_arm64.whl.metadata\n",
      "  Downloading PyYAML-6.0.1-cp311-cp311-macosx_11_0_arm64.whl.metadata (2.1 kB)\n",
      "Requirement already satisfied: jinja2>=2.11.1 in /Users/alexanderwinegardner/anaconda3/envs/GuidedCapstone/lib/python3.11/site-packages (from pandas-profiling[notebook]) (3.1.2)\n",
      "Requirement already satisfied: markupsafe~=2.1.1 in /Users/alexanderwinegardner/anaconda3/envs/GuidedCapstone/lib/python3.11/site-packages (from pandas-profiling[notebook]) (2.1.1)\n",
      "Collecting visions[type_image_path]==0.7.4 (from pandas-profiling[notebook])\n",
      "  Downloading visions-0.7.4-py3-none-any.whl (102 kB)\n",
      "\u001b[2K     \u001b[38;2;114;156;31m━━━━━━━━━━━━━━━━━━━━━━━━━━━━━━━━━━━━━━━\u001b[0m \u001b[32m102.4/102.4 kB\u001b[0m \u001b[31m3.9 MB/s\u001b[0m eta \u001b[36m0:00:00\u001b[0m\n",
      "\u001b[?25hRequirement already satisfied: numpy>=1.16.0 in /Users/alexanderwinegardner/anaconda3/envs/GuidedCapstone/lib/python3.11/site-packages (from pandas-profiling[notebook]) (1.23.5)\n",
      "Requirement already satisfied: htmlmin>=0.1.12 in /Users/alexanderwinegardner/anaconda3/envs/GuidedCapstone/lib/python3.11/site-packages (from pandas-profiling[notebook]) (0.1.12)\n",
      "Collecting missingno>=0.4.2 (from pandas-profiling[notebook])\n",
      "  Downloading missingno-0.5.2-py3-none-any.whl (8.7 kB)\n",
      "Requirement already satisfied: phik>=0.11.1 in /Users/alexanderwinegardner/anaconda3/envs/GuidedCapstone/lib/python3.11/site-packages (from pandas-profiling[notebook]) (0.12.3)\n",
      "Requirement already satisfied: tangled-up-in-unicode==0.2.0 in /Users/alexanderwinegardner/anaconda3/envs/GuidedCapstone/lib/python3.11/site-packages (from pandas-profiling[notebook]) (0.2.0)\n",
      "Collecting requests>=2.24.0 (from pandas-profiling[notebook])\n",
      "  Obtaining dependency information for requests>=2.24.0 from https://files.pythonhosted.org/packages/70/8e/0e2d847013cb52cd35b38c009bb167a1a26b2ce6cd6965bf26b47bc0bf44/requests-2.31.0-py3-none-any.whl.metadata\n",
      "  Downloading requests-2.31.0-py3-none-any.whl.metadata (4.6 kB)\n",
      "Requirement already satisfied: tqdm>=4.48.2 in /Users/alexanderwinegardner/anaconda3/envs/GuidedCapstone/lib/python3.11/site-packages (from pandas-profiling[notebook]) (4.66.1)\n",
      "Requirement already satisfied: seaborn>=0.10.1 in /Users/alexanderwinegardner/anaconda3/envs/GuidedCapstone/lib/python3.11/site-packages (from pandas-profiling[notebook]) (0.12.2)\n",
      "Requirement already satisfied: multimethod>=1.4 in /Users/alexanderwinegardner/anaconda3/envs/GuidedCapstone/lib/python3.11/site-packages (from pandas-profiling[notebook]) (1.9.1)\n",
      "Requirement already satisfied: jupyter-client>=5.3.4 in /Users/alexanderwinegardner/anaconda3/envs/GuidedCapstone/lib/python3.11/site-packages (from pandas-profiling[notebook]) (7.4.9)\n",
      "Requirement already satisfied: jupyter-core>=4.6.3 in /Users/alexanderwinegardner/anaconda3/envs/GuidedCapstone/lib/python3.11/site-packages (from pandas-profiling[notebook]) (5.3.0)\n",
      "Requirement already satisfied: ipywidgets>=7.5.1 in /Users/alexanderwinegardner/anaconda3/envs/GuidedCapstone/lib/python3.11/site-packages (from pandas-profiling[notebook]) (8.0.4)\n",
      "Requirement already satisfied: attrs>=19.3.0 in /Users/alexanderwinegardner/anaconda3/envs/GuidedCapstone/lib/python3.11/site-packages (from visions[type_image_path]==0.7.4->pandas-profiling[notebook]) (22.1.0)\n",
      "Requirement already satisfied: networkx>=2.4 in /Users/alexanderwinegardner/anaconda3/envs/GuidedCapstone/lib/python3.11/site-packages (from visions[type_image_path]==0.7.4->pandas-profiling[notebook]) (3.1)\n",
      "Requirement already satisfied: imagehash in /Users/alexanderwinegardner/anaconda3/envs/GuidedCapstone/lib/python3.11/site-packages (from visions[type_image_path]==0.7.4->pandas-profiling[notebook]) (4.3.1)\n",
      "Requirement already satisfied: Pillow in /Users/alexanderwinegardner/anaconda3/envs/GuidedCapstone/lib/python3.11/site-packages (from visions[type_image_path]==0.7.4->pandas-profiling[notebook]) (10.0.0)\n",
      "Requirement already satisfied: ipykernel>=4.5.1 in /Users/alexanderwinegardner/anaconda3/envs/GuidedCapstone/lib/python3.11/site-packages (from ipywidgets>=7.5.1->pandas-profiling[notebook]) (6.25.0)\n",
      "Requirement already satisfied: ipython>=6.1.0 in /Users/alexanderwinegardner/anaconda3/envs/GuidedCapstone/lib/python3.11/site-packages (from ipywidgets>=7.5.1->pandas-profiling[notebook]) (8.12.2)\n",
      "Requirement already satisfied: traitlets>=4.3.1 in /Users/alexanderwinegardner/anaconda3/envs/GuidedCapstone/lib/python3.11/site-packages (from ipywidgets>=7.5.1->pandas-profiling[notebook]) (5.7.1)\n",
      "Requirement already satisfied: widgetsnbextension~=4.0 in /Users/alexanderwinegardner/anaconda3/envs/GuidedCapstone/lib/python3.11/site-packages (from ipywidgets>=7.5.1->pandas-profiling[notebook]) (4.0.8)\n",
      "Requirement already satisfied: jupyterlab-widgets~=3.0 in /Users/alexanderwinegardner/anaconda3/envs/GuidedCapstone/lib/python3.11/site-packages (from ipywidgets>=7.5.1->pandas-profiling[notebook]) (3.0.5)\n",
      "Requirement already satisfied: entrypoints in /Users/alexanderwinegardner/anaconda3/envs/GuidedCapstone/lib/python3.11/site-packages (from jupyter-client>=5.3.4->pandas-profiling[notebook]) (0.4)\n",
      "Requirement already satisfied: nest-asyncio>=1.5.4 in /Users/alexanderwinegardner/anaconda3/envs/GuidedCapstone/lib/python3.11/site-packages (from jupyter-client>=5.3.4->pandas-profiling[notebook]) (1.5.6)\n",
      "Requirement already satisfied: python-dateutil>=2.8.2 in /Users/alexanderwinegardner/anaconda3/envs/GuidedCapstone/lib/python3.11/site-packages (from jupyter-client>=5.3.4->pandas-profiling[notebook]) (2.8.2)\n",
      "Requirement already satisfied: pyzmq>=23.0 in /Users/alexanderwinegardner/anaconda3/envs/GuidedCapstone/lib/python3.11/site-packages (from jupyter-client>=5.3.4->pandas-profiling[notebook]) (23.2.0)\n",
      "Requirement already satisfied: tornado>=6.2 in /Users/alexanderwinegardner/anaconda3/envs/GuidedCapstone/lib/python3.11/site-packages (from jupyter-client>=5.3.4->pandas-profiling[notebook]) (6.3.2)\n",
      "Requirement already satisfied: platformdirs>=2.5 in /Users/alexanderwinegardner/anaconda3/envs/GuidedCapstone/lib/python3.11/site-packages (from jupyter-core>=4.6.3->pandas-profiling[notebook]) (3.10.0)\n",
      "Requirement already satisfied: contourpy>=1.0.1 in /Users/alexanderwinegardner/anaconda3/envs/GuidedCapstone/lib/python3.11/site-packages (from matplotlib>=3.2.0->pandas-profiling[notebook]) (1.1.0)\n",
      "Requirement already satisfied: cycler>=0.10 in /Users/alexanderwinegardner/anaconda3/envs/GuidedCapstone/lib/python3.11/site-packages (from matplotlib>=3.2.0->pandas-profiling[notebook]) (0.11.0)\n",
      "Requirement already satisfied: fonttools>=4.22.0 in /Users/alexanderwinegardner/anaconda3/envs/GuidedCapstone/lib/python3.11/site-packages (from matplotlib>=3.2.0->pandas-profiling[notebook]) (4.42.1)\n",
      "Requirement already satisfied: kiwisolver>=1.0.1 in /Users/alexanderwinegardner/anaconda3/envs/GuidedCapstone/lib/python3.11/site-packages (from matplotlib>=3.2.0->pandas-profiling[notebook]) (1.4.4)\n",
      "Requirement already satisfied: packaging>=20.0 in /Users/alexanderwinegardner/anaconda3/envs/GuidedCapstone/lib/python3.11/site-packages (from matplotlib>=3.2.0->pandas-profiling[notebook]) (23.0)\n",
      "Requirement already satisfied: pyparsing<3.1,>=2.3.1 in /Users/alexanderwinegardner/anaconda3/envs/GuidedCapstone/lib/python3.11/site-packages (from matplotlib>=3.2.0->pandas-profiling[notebook]) (3.0.9)\n"
     ]
    },
    {
     "name": "stdout",
     "output_type": "stream",
     "text": [
      "Collecting pytz>=2020.1 (from pandas!=1.0.0,!=1.0.1,!=1.0.2,!=1.1.0,>=0.25.3->pandas-profiling[notebook])\n",
      "  Downloading pytz-2023.3-py2.py3-none-any.whl (502 kB)\n",
      "\u001b[2K     \u001b[38;2;114;156;31m━━━━━━━━━━━━━━━━━━━━━━━━━━━━━━━━━━━━━━\u001b[0m \u001b[32m502.3/502.3 kB\u001b[0m \u001b[31m10.7 MB/s\u001b[0m eta \u001b[36m0:00:00\u001b[0mm eta \u001b[36m0:00:01\u001b[0m\n",
      "\u001b[?25hRequirement already satisfied: tzdata>=2022.1 in /Users/alexanderwinegardner/anaconda3/envs/GuidedCapstone/lib/python3.11/site-packages (from pandas!=1.0.0,!=1.0.1,!=1.0.2,!=1.1.0,>=0.25.3->pandas-profiling[notebook]) (2023.3)\n",
      "Requirement already satisfied: typing-extensions>=4.2.0 in /Users/alexanderwinegardner/anaconda3/envs/GuidedCapstone/lib/python3.11/site-packages (from pydantic>=1.8.1->pandas-profiling[notebook]) (4.7.1)\n",
      "Collecting charset-normalizer<4,>=2 (from requests>=2.24.0->pandas-profiling[notebook])\n",
      "  Obtaining dependency information for charset-normalizer<4,>=2 from https://files.pythonhosted.org/packages/91/e6/8fa919fc84a106e9b04109de62bdf8526899e2754a64da66e1cd50ac1faa/charset_normalizer-3.2.0-cp311-cp311-macosx_11_0_arm64.whl.metadata\n",
      "  Downloading charset_normalizer-3.2.0-cp311-cp311-macosx_11_0_arm64.whl.metadata (31 kB)\n",
      "Requirement already satisfied: idna<4,>=2.5 in /Users/alexanderwinegardner/anaconda3/envs/GuidedCapstone/lib/python3.11/site-packages (from requests>=2.24.0->pandas-profiling[notebook]) (3.4)\n",
      "Collecting urllib3<3,>=1.21.1 (from requests>=2.24.0->pandas-profiling[notebook])\n",
      "  Obtaining dependency information for urllib3<3,>=1.21.1 from https://files.pythonhosted.org/packages/9b/81/62fd61001fa4b9d0df6e31d47ff49cfa9de4af03adecf339c7bc30656b37/urllib3-2.0.4-py3-none-any.whl.metadata\n",
      "  Downloading urllib3-2.0.4-py3-none-any.whl.metadata (6.6 kB)\n",
      "Requirement already satisfied: certifi>=2017.4.17 in /Users/alexanderwinegardner/anaconda3/envs/GuidedCapstone/lib/python3.11/site-packages (from requests>=2.24.0->pandas-profiling[notebook]) (2023.7.22)\n",
      "Requirement already satisfied: appnope in /Users/alexanderwinegardner/anaconda3/envs/GuidedCapstone/lib/python3.11/site-packages (from ipykernel>=4.5.1->ipywidgets>=7.5.1->pandas-profiling[notebook]) (0.1.2)\n",
      "Requirement already satisfied: comm>=0.1.1 in /Users/alexanderwinegardner/anaconda3/envs/GuidedCapstone/lib/python3.11/site-packages (from ipykernel>=4.5.1->ipywidgets>=7.5.1->pandas-profiling[notebook]) (0.1.2)\n",
      "Requirement already satisfied: debugpy>=1.6.5 in /Users/alexanderwinegardner/anaconda3/envs/GuidedCapstone/lib/python3.11/site-packages (from ipykernel>=4.5.1->ipywidgets>=7.5.1->pandas-profiling[notebook]) (1.6.7)\n",
      "Requirement already satisfied: matplotlib-inline>=0.1 in /Users/alexanderwinegardner/anaconda3/envs/GuidedCapstone/lib/python3.11/site-packages (from ipykernel>=4.5.1->ipywidgets>=7.5.1->pandas-profiling[notebook]) (0.1.6)\n",
      "Requirement already satisfied: psutil in /Users/alexanderwinegardner/anaconda3/envs/GuidedCapstone/lib/python3.11/site-packages (from ipykernel>=4.5.1->ipywidgets>=7.5.1->pandas-profiling[notebook]) (5.9.0)\n",
      "Requirement already satisfied: backcall in /Users/alexanderwinegardner/anaconda3/envs/GuidedCapstone/lib/python3.11/site-packages (from ipython>=6.1.0->ipywidgets>=7.5.1->pandas-profiling[notebook]) (0.2.0)\n",
      "Requirement already satisfied: decorator in /Users/alexanderwinegardner/anaconda3/envs/GuidedCapstone/lib/python3.11/site-packages (from ipython>=6.1.0->ipywidgets>=7.5.1->pandas-profiling[notebook]) (5.1.1)\n",
      "Requirement already satisfied: jedi>=0.16 in /Users/alexanderwinegardner/anaconda3/envs/GuidedCapstone/lib/python3.11/site-packages (from ipython>=6.1.0->ipywidgets>=7.5.1->pandas-profiling[notebook]) (0.18.1)\n",
      "Requirement already satisfied: pickleshare in /Users/alexanderwinegardner/anaconda3/envs/GuidedCapstone/lib/python3.11/site-packages (from ipython>=6.1.0->ipywidgets>=7.5.1->pandas-profiling[notebook]) (0.7.5)\n",
      "Requirement already satisfied: prompt-toolkit!=3.0.37,<3.1.0,>=3.0.30 in /Users/alexanderwinegardner/anaconda3/envs/GuidedCapstone/lib/python3.11/site-packages (from ipython>=6.1.0->ipywidgets>=7.5.1->pandas-profiling[notebook]) (3.0.36)\n",
      "Requirement already satisfied: pygments>=2.4.0 in /Users/alexanderwinegardner/anaconda3/envs/GuidedCapstone/lib/python3.11/site-packages (from ipython>=6.1.0->ipywidgets>=7.5.1->pandas-profiling[notebook]) (2.15.1)\n",
      "Requirement already satisfied: stack-data in /Users/alexanderwinegardner/anaconda3/envs/GuidedCapstone/lib/python3.11/site-packages (from ipython>=6.1.0->ipywidgets>=7.5.1->pandas-profiling[notebook]) (0.2.0)\n",
      "Requirement already satisfied: pexpect>4.3 in /Users/alexanderwinegardner/anaconda3/envs/GuidedCapstone/lib/python3.11/site-packages (from ipython>=6.1.0->ipywidgets>=7.5.1->pandas-profiling[notebook]) (4.8.0)\n",
      "Requirement already satisfied: six>=1.5 in /Users/alexanderwinegardner/anaconda3/envs/GuidedCapstone/lib/python3.11/site-packages (from python-dateutil>=2.8.2->jupyter-client>=5.3.4->pandas-profiling[notebook]) (1.16.0)\n",
      "Requirement already satisfied: PyWavelets in /Users/alexanderwinegardner/anaconda3/envs/GuidedCapstone/lib/python3.11/site-packages (from imagehash->visions[type_image_path]==0.7.4->pandas-profiling[notebook]) (1.4.1)\n",
      "Requirement already satisfied: parso<0.9.0,>=0.8.0 in /Users/alexanderwinegardner/anaconda3/envs/GuidedCapstone/lib/python3.11/site-packages (from jedi>=0.16->ipython>=6.1.0->ipywidgets>=7.5.1->pandas-profiling[notebook]) (0.8.3)\n",
      "Requirement already satisfied: ptyprocess>=0.5 in /Users/alexanderwinegardner/anaconda3/envs/GuidedCapstone/lib/python3.11/site-packages (from pexpect>4.3->ipython>=6.1.0->ipywidgets>=7.5.1->pandas-profiling[notebook]) (0.7.0)\n",
      "Requirement already satisfied: wcwidth in /Users/alexanderwinegardner/anaconda3/envs/GuidedCapstone/lib/python3.11/site-packages (from prompt-toolkit!=3.0.37,<3.1.0,>=3.0.30->ipython>=6.1.0->ipywidgets>=7.5.1->pandas-profiling[notebook]) (0.2.5)\n",
      "Requirement already satisfied: executing in /Users/alexanderwinegardner/anaconda3/envs/GuidedCapstone/lib/python3.11/site-packages (from stack-data->ipython>=6.1.0->ipywidgets>=7.5.1->pandas-profiling[notebook]) (0.8.3)\n",
      "Requirement already satisfied: asttokens in /Users/alexanderwinegardner/anaconda3/envs/GuidedCapstone/lib/python3.11/site-packages (from stack-data->ipython>=6.1.0->ipywidgets>=7.5.1->pandas-profiling[notebook]) (2.0.5)\n",
      "Requirement already satisfied: pure-eval in /Users/alexanderwinegardner/anaconda3/envs/GuidedCapstone/lib/python3.11/site-packages (from stack-data->ipython>=6.1.0->ipywidgets>=7.5.1->pandas-profiling[notebook]) (0.2.2)\n",
      "Downloading PyYAML-6.0.1-cp311-cp311-macosx_11_0_arm64.whl (167 kB)\n",
      "\u001b[2K   \u001b[38;2;114;156;31m━━━━━━━━━━━━━━━━━━━━━━━━━━━━━━━━━━━━━━━━\u001b[0m \u001b[32m167.5/167.5 kB\u001b[0m \u001b[31m6.1 MB/s\u001b[0m eta \u001b[36m0:00:00\u001b[0m\n",
      "\u001b[?25hDownloading requests-2.31.0-py3-none-any.whl (62 kB)\n",
      "\u001b[2K   \u001b[38;2;114;156;31m━━━━━━━━━━━━━━━━━━━━━━━━━━━━━━━━━━━━━━━━\u001b[0m \u001b[32m62.6/62.6 kB\u001b[0m \u001b[31m17.3 MB/s\u001b[0m eta \u001b[36m0:00:00\u001b[0m\n",
      "\u001b[?25hDownloading charset_normalizer-3.2.0-cp311-cp311-macosx_11_0_arm64.whl (122 kB)\n",
      "\u001b[2K   \u001b[38;2;114;156;31m━━━━━━━━━━━━━━━━━━━━━━━━━━━━━━━━━━━━━━━━\u001b[0m \u001b[32m122.8/122.8 kB\u001b[0m \u001b[31m4.8 MB/s\u001b[0m eta \u001b[36m0:00:00\u001b[0m\n",
      "\u001b[?25hDownloading urllib3-2.0.4-py3-none-any.whl (123 kB)\n",
      "\u001b[2K   \u001b[38;2;114;156;31m━━━━━━━━━━━━━━━━━━━━━━━━━━━━━━━━━━━━━━━━\u001b[0m \u001b[32m123.9/123.9 kB\u001b[0m \u001b[31m5.0 MB/s\u001b[0m eta \u001b[36m0:00:00\u001b[0m\n",
      "\u001b[?25hInstalling collected packages: pytz, urllib3, PyYAML, joblib, charset-normalizer, requests, visions, missingno, pandas-profiling\n",
      "  Attempting uninstall: joblib\n",
      "    Found existing installation: joblib 1.3.2\n",
      "    Uninstalling joblib-1.3.2:\n",
      "      Successfully uninstalled joblib-1.3.2\n",
      "  Attempting uninstall: visions\n",
      "    Found existing installation: visions 0.7.5\n",
      "    Uninstalling visions-0.7.5:\n",
      "      Successfully uninstalled visions-0.7.5\n",
      "\u001b[31mERROR: pip's dependency resolver does not currently take into account all the packages that are installed. This behaviour is the source of the following dependency conflicts.\n",
      "ydata-profiling 4.5.1 requires visions[type_image_path]==0.7.5, but you have visions 0.7.4 which is incompatible.\u001b[0m\u001b[31m\n",
      "\u001b[0mSuccessfully installed PyYAML-6.0.1 charset-normalizer-3.2.0 joblib-1.1.1 missingno-0.5.2 pandas-profiling-3.2.0 pytz-2023.3 requests-2.31.0 urllib3-2.0.4 visions-0.7.4\n"
     ]
    },
    {
     "name": "stdout",
     "output_type": "stream",
     "text": [
      "Enabling notebook extension jupyter-js-widgets/extension...\r\n",
      "      - Validating: \u001b[32mOK\u001b[0m\r\n"
     ]
    }
   ],
   "source": [
    "import sys\n",
    "\n",
    "!{sys.executable} -m pip install -U 'pandas-profiling[notebook]'\n",
    "!jupyter nbextension enable --py widgetsnbextension"
   ]
  },
  {
   "cell_type": "markdown",
   "metadata": {},
   "source": [
    "You might want to restart the kernel now."
   ]
  },
  {
   "cell_type": "markdown",
   "metadata": {},
   "source": [
    "### Import libraries"
   ]
  },
  {
   "cell_type": "code",
   "execution_count": null,
   "metadata": {},
   "outputs": [],
   "source": [
    "from pathlib import Path\n",
    "\n",
    "import numpy as np\n",
    "import pandas as pd\n",
    "import requests\n",
    "\n",
    "import ydata_profiling\n",
    "from ydata_profiling.utils.cache import cache_file"
   ]
  },
  {
   "cell_type": "markdown",
   "metadata": {},
   "source": [
    "### Load and prepare example dataset\n",
    "We add some fake variables for illustrating pandas-profiling capabilities"
   ]
  },
  {
   "cell_type": "code",
   "execution_count": null,
   "metadata": {},
   "outputs": [],
   "source": [
    "file_name = cache_file(\n",
    "    \"meteorites.csv\",\n",
    "    \"https://data.nasa.gov/api/views/gh4g-9sfh/rows.csv?accessType=DOWNLOAD\",\n",
    ")\n",
    "\n",
    "df = pd.read_csv(file_name)\n",
    "\n",
    "# Note: Pandas does not support dates before 1880, so we ignore these for this analysis\n",
    "df[\"year\"] = pd.to_datetime(df[\"year\"], errors=\"coerce\")\n",
    "\n",
    "# Example: Constant variable\n",
    "df[\"source\"] = \"NASA\"\n",
    "\n",
    "# Example: Boolean variable\n",
    "df[\"boolean\"] = np.random.choice([True, False], df.shape[0])\n",
    "\n",
    "# Example: Mixed with base types\n",
    "df[\"mixed\"] = np.random.choice([1, \"A\"], df.shape[0])\n",
    "\n",
    "# Example: Highly correlated variables\n",
    "df[\"reclat_city\"] = df[\"reclat\"] + np.random.normal(scale=5, size=(len(df)))\n",
    "\n",
    "# Example: Duplicate observations\n",
    "duplicates_to_add = pd.DataFrame(df.iloc[0:10])\n",
    "duplicates_to_add[\"name\"] = duplicates_to_add[\"name\"] + \" copy\"\n",
    "\n",
    "df = pd.concat([df, duplicates_to_add], ignore_index=True)"
   ]
  },
  {
   "cell_type": "markdown",
   "metadata": {},
   "source": [
    "### Inline report without saving object"
   ]
  },
  {
   "cell_type": "code",
   "execution_count": null,
   "metadata": {},
   "outputs": [],
   "source": [
    "report = df.profile_report(\n",
    "    sort=None, html={\"style\": {\"full_width\": True}}, progress_bar=False\n",
    ")\n",
    "report"
   ]
  },
  {
   "cell_type": "markdown",
   "metadata": {},
   "source": [
    "### Save report to file"
   ]
  },
  {
   "cell_type": "code",
   "execution_count": null,
   "metadata": {},
   "outputs": [],
   "source": [
    "profile_report = df.profile_report(html={\"style\": {\"full_width\": True}})\n",
    "profile_report.to_file(\"/tmp/example.html\")"
   ]
  },
  {
   "cell_type": "markdown",
   "metadata": {},
   "source": [
    "### More analysis (Unicode) and Print existing ProfileReport object inline"
   ]
  },
  {
   "cell_type": "code",
   "execution_count": null,
   "metadata": {},
   "outputs": [],
   "source": [
    "profile_report = df.profile_report(\n",
    "    explorative=True, html={\"style\": {\"full_width\": True}}\n",
    ")\n",
    "profile_report"
   ]
  },
  {
   "cell_type": "markdown",
   "metadata": {},
   "source": [
    "### Notebook Widgets"
   ]
  },
  {
   "cell_type": "code",
   "execution_count": null,
   "metadata": {},
   "outputs": [],
   "source": [
    "profile_report.to_widgets()"
   ]
  }
 ],
 "metadata": {
  "kernelspec": {
   "display_name": "Python 3 (ipykernel)",
   "language": "python",
   "name": "python3"
  },
  "language_info": {
   "codemirror_mode": {
    "name": "ipython",
    "version": 3
   },
   "file_extension": ".py",
   "mimetype": "text/x-python",
   "name": "python",
   "nbconvert_exporter": "python",
   "pygments_lexer": "ipython3",
   "version": "3.11.4"
  }
 },
 "nbformat": 4,
 "nbformat_minor": 4
}
